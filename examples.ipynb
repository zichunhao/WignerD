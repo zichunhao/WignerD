{
 "cells": [
  {
   "cell_type": "code",
   "execution_count": 1,
   "metadata": {},
   "outputs": [],
   "source": [
    "\n",
    "import numpy as np\n",
    "import angular_momentum\n",
    "import wigner_d\n",
    "import cg\n",
    "import math\n",
    "import random\n",
    "from wigner_d import WignerD\n",
    "from hydrogen import hydrogen_matrix_element\n",
    "from cg import ClebschGordanCoefficients\n",
    "from IPython.display import display\n"
   ]
  },
  {
   "cell_type": "markdown",
   "metadata": {},
   "source": [
    "# Matrix elements of an operator in the basis of the hydrogen atom energy eigenstates\n",
    "Example: \n",
    "$$\n",
    "\\langle 2, 1, 0 | z | 1, 0, 0 \\rangle = \\frac{128\\sqrt{2}}{243} a_0 \\approx 0.744936 a_0\n",
    "$$"
   ]
  },
  {
   "cell_type": "code",
   "execution_count": 2,
   "metadata": {},
   "outputs": [
    {
     "data": {
      "text/plain": [
       "0.7449355390278037"
      ]
     },
     "execution_count": 2,
     "metadata": {},
     "output_type": "execute_result"
    }
   ],
   "source": [
    "# expressed in the natural unit of hydrogen atom (a0=1)\n",
    "hydrogen_matrix_element(\n",
    "    2,1,0,\n",
    "    1,0,0,\n",
    "    op = lambda r, theta, phi: r * np.cos(theta),  # z = r cos(theta)\n",
    "    a = 1\n",
    ")"
   ]
  },
  {
   "cell_type": "markdown",
   "metadata": {},
   "source": [
    "# Angular momentum operators\n",
    "The angular momentum operators $J_x^{(j)}$, $J_y^{(j)}$, $J_z^{(j)}$, $J_+^{(j)}$, and $J_-^{(j)}$ in the bases $|j, m \\rangle$ given a $j \\in \\{ n / 2 \\mid n \\in \\mathbb{N} \\}$. We will use the natural unit such that $\\hbar = 1$."
   ]
  },
  {
   "cell_type": "code",
   "execution_count": 3,
   "metadata": {},
   "outputs": [
    {
     "data": {
      "text/plain": [
       "(array([[0. , 0.5],\n",
       "        [0.5, 0. ]]),\n",
       " array([[0.+0.j , 0.+0.5j],\n",
       "        [0.-0.5j, 0.+0.j ]]),\n",
       " array([[1., 0.],\n",
       "        [0., 1.]]))"
      ]
     },
     "execution_count": 3,
     "metadata": {},
     "output_type": "execute_result"
    }
   ],
   "source": [
    "j = 1/2\n",
    "angular_momentum.J_x(j), angular_momentum.J_y(j), angular_momentum.J_z(j)\n"
   ]
  },
  {
   "cell_type": "markdown",
   "metadata": {},
   "source": [
    "check that $\\left( j_y^{(j=1)} \\right)^3 = J_y^{(j=1)}$\n"
   ]
  },
  {
   "cell_type": "code",
   "execution_count": 4,
   "metadata": {},
   "outputs": [
    {
     "data": {
      "text/plain": [
       "array([[0.+0.00000000e+00j, 0.+1.11022302e-16j, 0.+0.00000000e+00j],\n",
       "       [0.-1.11022302e-16j, 0.+0.00000000e+00j, 0.+1.11022302e-16j],\n",
       "       [0.+0.00000000e+00j, 0.-1.11022302e-16j, 0.+0.00000000e+00j]])"
      ]
     },
     "execution_count": 4,
     "metadata": {},
     "output_type": "execute_result"
    }
   ],
   "source": [
    "j = 1\n",
    "np.linalg.matrix_power(angular_momentum.J_y(j), 3) - angular_momentum.J_y(j)  # should be zero up to machine precision\n"
   ]
  },
  {
   "cell_type": "code",
   "execution_count": 5,
   "metadata": {},
   "outputs": [
    {
     "data": {
      "text/plain": [
       "(array([[0.        , 0.        , 0.        ],\n",
       "        [1.41421356, 0.        , 0.        ],\n",
       "        [0.        , 1.41421356, 0.        ]]),\n",
       " array([[0.        , 1.41421356, 0.        ],\n",
       "        [0.        , 0.        , 1.41421356],\n",
       "        [0.        , 0.        , 0.        ]]))"
      ]
     },
     "execution_count": 5,
     "metadata": {},
     "output_type": "execute_result"
    }
   ],
   "source": [
    "angular_momentum.J_plus(1), angular_momentum.J_minus(1)"
   ]
  },
  {
   "cell_type": "markdown",
   "metadata": {},
   "source": [
    "# Wigner D matrices"
   ]
  },
  {
   "cell_type": "code",
   "execution_count": 6,
   "metadata": {},
   "outputs": [
    {
     "data": {
      "text/plain": [
       "array([[-1.,  0.],\n",
       "       [-0., -1.]])"
      ]
     },
     "execution_count": 6,
     "metadata": {},
     "output_type": "execute_result"
    }
   ],
   "source": [
    "# spin-1/2\n",
    "# gives -I after a full rotation\n",
    "j = 1 / 2\n",
    "beta = 2 * np.pi\n",
    "wigner_d.wigner_d(j, beta).round(12)\n"
   ]
  },
  {
   "cell_type": "code",
   "execution_count": 7,
   "metadata": {},
   "outputs": [
    {
     "data": {
      "text/plain": [
       "array([[ 1., -0.,  0.],\n",
       "       [ 0.,  1., -0.],\n",
       "       [ 0.,  0.,  1.]])"
      ]
     },
     "execution_count": 7,
     "metadata": {},
     "output_type": "execute_result"
    }
   ],
   "source": [
    "j = 1\n",
    "beta = 2 * np.pi\n",
    "wigner_d.wigner_d(j, beta).round(12)\n"
   ]
  },
  {
   "cell_type": "code",
   "execution_count": 8,
   "metadata": {},
   "outputs": [
    {
     "data": {
      "text/plain": [
       "array([[ 1.        ,  0.        ,  0.        ,  0.        ,  0.        ,\n",
       "         0.        ],\n",
       "       [ 0.        ,  0.92387953,  0.38268343,  0.        ,  0.        ,\n",
       "         0.        ],\n",
       "       [ 0.        , -0.38268343,  0.92387953,  0.        ,  0.        ,\n",
       "         0.        ],\n",
       "       [ 0.        ,  0.        ,  0.        ,  0.85355339,  0.5       ,\n",
       "         0.14644661],\n",
       "       [ 0.        ,  0.        ,  0.        , -0.5       ,  0.70710678,\n",
       "         0.5       ],\n",
       "       [ 0.        ,  0.        ,  0.        ,  0.14644661, -0.5       ,\n",
       "         0.85355339]])"
      ]
     },
     "execution_count": 8,
     "metadata": {},
     "output_type": "execute_result"
    }
   ],
   "source": [
    "# block diagonal form of wigner d up to j = 3/2 at beta = pi/4\n",
    "wigner_d.wigner_d_block_diag(jmax=3/2, beta=np.pi/4)\n"
   ]
  },
  {
   "cell_type": "code",
   "execution_count": 9,
   "metadata": {},
   "outputs": [
    {
     "data": {
      "text/plain": [
       "array([[0.+0.j, 0.+0.j, 0.+0.j],\n",
       "       [0.+0.j, 0.+0.j, 0.+0.j],\n",
       "       [0.+0.j, 0.+0.j, 0.+0.j]])"
      ]
     },
     "execution_count": 9,
     "metadata": {},
     "output_type": "execute_result"
    }
   ],
   "source": [
    "j = 1\n",
    "alpha = random.uniform(0, 2 * math.pi)\n",
    "beta = random.uniform(0, math.pi)\n",
    "gamma = random.uniform(0, 2 * math.pi)\n",
    "d = wigner_d.wigner_d(j, beta)\n",
    "# given a d, we can calculate the D matrix (and vice versa using wigner_d.wigner_d_from_D))\n",
    "wigner_d.wigner_D_from_d(d, alpha, gamma) - wigner_d.wigner_D(j, alpha, beta, gamma)\n"
   ]
  },
  {
   "cell_type": "code",
   "execution_count": 10,
   "metadata": {},
   "outputs": [
    {
     "data": {
      "text/plain": [
       "WignerDDict(jmax=2, alpha=[3.93051752], beta=[3.0425003], gamma=[3.51596178])"
      ]
     },
     "execution_count": 10,
     "metadata": {},
     "output_type": "execute_result"
    }
   ],
   "source": [
    "alpha = np.random.rand(1) * 2 * np.pi\n",
    "beta = np.random.rand(1) * np.pi\n",
    "gamma = np.random.rand(1) * 2 * np.pi\n",
    "wd = WignerD(jmax=2, alpha=alpha, beta=beta, gamma=gamma)\n",
    "wd"
   ]
  },
  {
   "cell_type": "code",
   "execution_count": 11,
   "metadata": {},
   "outputs": [
    {
     "data": {
      "text/plain": [
       "WignerDDict(jmax=3, alpha=[3.93051752], beta=[3.0425003], gamma=[3.51596178])"
      ]
     },
     "execution_count": 11,
     "metadata": {},
     "output_type": "execute_result"
    }
   ],
   "source": [
    "# update jmax and stores wigner matrices up to jmax\n",
    "wd.set_jmax(3)\n",
    "wd\n"
   ]
  },
  {
   "cell_type": "code",
   "execution_count": 12,
   "metadata": {},
   "outputs": [
    {
     "data": {
      "text/plain": [
       "array([[ 9.72093570e-04+0.00225196j, -4.92903763e-02-0.04963927j,\n",
       "         9.13050303e-01+0.40179538j],\n",
       "       [ 6.51091242e-02+0.02558125j, -9.95094369e-01+0.j        ,\n",
       "        -6.51091242e-02+0.02558125j],\n",
       "       [ 9.13050303e-01-0.40179538j,  4.92903763e-02-0.04963927j,\n",
       "         9.72093570e-04-0.00225196j]])"
      ]
     },
     "execution_count": 12,
     "metadata": {},
     "output_type": "execute_result"
    }
   ],
   "source": [
    "# look up the wigner D matrix with j = 1\n",
    "wd.wigner_D(1)"
   ]
  },
  {
   "cell_type": "code",
   "execution_count": 13,
   "metadata": {},
   "outputs": [
    {
     "data": {
      "text/plain": [
       "array([[ 1.00000000e+00,  0.00000000e+00,  0.00000000e+00,\n",
       "         0.00000000e+00,  0.00000000e+00,  0.00000000e+00,\n",
       "         0.00000000e+00,  0.00000000e+00,  0.00000000e+00,\n",
       "         0.00000000e+00],\n",
       "       [ 0.00000000e+00,  4.95259084e-02,  9.98772839e-01,\n",
       "         0.00000000e+00,  0.00000000e+00,  0.00000000e+00,\n",
       "         0.00000000e+00,  0.00000000e+00,  0.00000000e+00,\n",
       "         0.00000000e+00],\n",
       "       [ 0.00000000e+00, -9.98772839e-01,  4.95259084e-02,\n",
       "         0.00000000e+00,  0.00000000e+00,  0.00000000e+00,\n",
       "         0.00000000e+00,  0.00000000e+00,  0.00000000e+00,\n",
       "         0.00000000e+00],\n",
       "       [ 0.00000000e+00,  0.00000000e+00,  0.00000000e+00,\n",
       "         2.45281560e-03,  6.99542607e-02,  9.97547184e-01,\n",
       "         0.00000000e+00,  0.00000000e+00,  0.00000000e+00,\n",
       "         0.00000000e+00],\n",
       "       [ 0.00000000e+00,  0.00000000e+00,  0.00000000e+00,\n",
       "        -6.99542607e-02, -9.95094369e-01,  6.99542607e-02,\n",
       "         0.00000000e+00,  0.00000000e+00,  0.00000000e+00,\n",
       "         0.00000000e+00],\n",
       "       [ 0.00000000e+00,  0.00000000e+00,  0.00000000e+00,\n",
       "         9.97547184e-01, -6.99542607e-02,  2.45281560e-03,\n",
       "         0.00000000e+00,  0.00000000e+00,  0.00000000e+00,\n",
       "         0.00000000e+00],\n",
       "       [ 0.00000000e+00,  0.00000000e+00,  0.00000000e+00,\n",
       "         0.00000000e+00,  0.00000000e+00,  0.00000000e+00,\n",
       "         1.21477921e-04,  4.24318777e-03,  8.55709837e-02,\n",
       "         9.96323034e-01],\n",
       "       [ 0.00000000e+00,  0.00000000e+00,  0.00000000e+00,\n",
       "         0.00000000e+00,  0.00000000e+00,  0.00000000e+00,\n",
       "        -4.24318777e-03, -9.86873830e-02, -9.91423422e-01,\n",
       "         8.55709837e-02],\n",
       "       [ 0.00000000e+00,  0.00000000e+00,  0.00000000e+00,\n",
       "         0.00000000e+00,  0.00000000e+00,  0.00000000e+00,\n",
       "         8.55709837e-02,  9.91423422e-01, -9.86873830e-02,\n",
       "         4.24318777e-03],\n",
       "       [ 0.00000000e+00,  0.00000000e+00,  0.00000000e+00,\n",
       "         0.00000000e+00,  0.00000000e+00,  0.00000000e+00,\n",
       "        -9.96323034e-01,  8.55709837e-02, -4.24318777e-03,\n",
       "         1.21477921e-04]])"
      ]
     },
     "execution_count": 13,
     "metadata": {},
     "output_type": "execute_result"
    }
   ],
   "source": [
    "# block diagonal wigner d matrix up to j = 3/2\n",
    "wd.get_d_block(jmax=3/2)"
   ]
  },
  {
   "cell_type": "code",
   "execution_count": 14,
   "metadata": {},
   "outputs": [],
   "source": [
    "# set a new angles\n",
    "alpha = np.random.rand(1) * 2 * np.pi\n",
    "beta = np.random.rand(1) * np.pi\n",
    "gamma = np.random.rand(1) * 2 * np.pi\n",
    "\n",
    "wd.set_alpha(alpha)\n",
    "wd.set_beta(beta)\n",
    "wd.set_gamma(gamma)\n"
   ]
  },
  {
   "cell_type": "code",
   "execution_count": 15,
   "metadata": {},
   "outputs": [
    {
     "data": {
      "text/plain": [
       "{0.0: array([[1.]]),\n",
       " 0.5: array([[ 0.04122332,  0.99914996],\n",
       "        [-0.99914996,  0.04122332]]),\n",
       " 1.0: array([[ 0.00169936,  0.05824902,  0.99830064],\n",
       "        [-0.05824902, -0.99660128,  0.05824902],\n",
       "        [ 0.99830064, -0.05824902,  0.00169936]]),\n",
       " 1.5: array([[ 7.00533587e-05,  2.94087982e-03,  7.12795523e-02,\n",
       "          9.97452040e-01],\n",
       "        [-2.94087982e-03, -8.22364841e-02, -9.94056204e-01,\n",
       "          7.12795523e-02],\n",
       "        [ 7.12795523e-02,  9.94056204e-01, -8.22364841e-02,\n",
       "          2.94087982e-03],\n",
       "        [-9.97452040e-01,  7.12795523e-02, -2.94087982e-03,\n",
       "          7.00533587e-05]]),\n",
       " 2.0: array([[ 2.88783217e-06,  1.39987621e-04,  4.15549677e-03,\n",
       "          8.22365734e-02,  9.96604163e-01],\n",
       "        [-1.39987621e-04, -5.08653552e-03, -1.00547372e-01,\n",
       "         -9.91514740e-01,  8.22365734e-02],\n",
       "        [ 4.15549677e-03,  1.00547372e-01,  9.89821153e-01,\n",
       "         -1.00547372e-01,  4.15549677e-03],\n",
       "        [-8.22365734e-02, -9.91514740e-01,  1.00547372e-01,\n",
       "         -5.08653552e-03,  1.39987621e-04],\n",
       "        [ 9.96604163e-01, -8.22365734e-02,  4.15549677e-03,\n",
       "         -1.39987621e-04,  2.88783217e-06]]),\n",
       " 2.5: array([[ 1.19046036e-07,  6.45189998e-06,  2.21151715e-04,\n",
       "          5.36016302e-03,  9.18651285e-02,  9.95757007e-01],\n",
       "        [-6.45189998e-06, -2.79618205e-04, -7.18325224e-03,\n",
       "         -1.15904511e-01, -9.88976878e-01,  9.18651285e-02],\n",
       "        [ 2.21151715e-04,  7.18325224e-03,  1.22830516e-01,\n",
       "          9.85595469e-01, -1.15904511e-01,  5.36016302e-03],\n",
       "        [-5.36016302e-03, -1.15904511e-01, -9.85595469e-01,\n",
       "          1.22830516e-01, -7.18325224e-03,  2.21151715e-04],\n",
       "        [ 9.18651285e-02,  9.88976878e-01, -1.15904511e-01,\n",
       "          7.18325224e-03, -2.79618205e-04,  6.45189998e-06],\n",
       "        [-9.95757007e-01,  9.18651285e-02, -5.36016302e-03,\n",
       "          2.21151715e-04, -6.45189998e-06,  1.19046036e-07]]),\n",
       " 3.0: array([[ 4.90747307e-09,  2.91354169e-07,  1.11655193e-05,\n",
       "          3.12489899e-04,  6.55925178e-03,  1.00547664e-01,\n",
       "          9.94910572e-01],\n",
       "        [-2.91354169e-07, -1.44097160e-05, -4.41551316e-04,\n",
       "         -9.26039239e-03, -1.29364548e-01, -9.86442614e-01,\n",
       "          1.00547664e-01],\n",
       "        [ 1.11655193e-05,  4.41551316e-04,  1.01384907e-02,\n",
       "          1.41470121e-01,  9.81379137e-01, -1.29364548e-01,\n",
       "          6.55925178e-03],\n",
       "        [-3.12489899e-04, -9.26039239e-03, -1.41470121e-01,\n",
       "         -9.79694189e-01,  1.41470121e-01, -9.26039239e-03,\n",
       "          3.12489899e-04],\n",
       "        [ 6.55925178e-03,  1.29364548e-01,  9.81379137e-01,\n",
       "         -1.41470121e-01,  1.01384907e-02, -4.41551316e-04,\n",
       "          1.11655193e-05],\n",
       "        [-1.00547664e-01, -9.86442614e-01,  1.29364548e-01,\n",
       "         -9.26039239e-03,  4.41551316e-04, -1.44097160e-05,\n",
       "          2.91354169e-07],\n",
       "        [ 9.94910572e-01, -1.00547664e-01,  6.55925178e-03,\n",
       "         -3.12489899e-04,  1.11655193e-05, -2.91354169e-07,\n",
       "          4.90747307e-09]])}"
      ]
     },
     "execution_count": 15,
     "metadata": {},
     "output_type": "execute_result"
    }
   ],
   "source": [
    "# a dictionary of all stored little d matrices\n",
    "wd.d"
   ]
  },
  {
   "cell_type": "markdown",
   "metadata": {},
   "source": [
    "# Clebsch-Gordan coefficients\n",
    "The CG coefficient $\\langle j_1, j_2; m_1, m_2 | j_1, j_2; j, m \\rangle$"
   ]
  },
  {
   "cell_type": "code",
   "execution_count": 16,
   "metadata": {},
   "outputs": [
    {
     "data": {
      "text/plain": [
       "0.7071067811865476"
      ]
     },
     "execution_count": 16,
     "metadata": {},
     "output_type": "execute_result"
    }
   ],
   "source": [
    "# compute a single Clebsch-Gordan coefficient\n",
    "cg.cg_coefficient(\n",
    "    j1=1/2, j2=1/2,\n",
    "    m=0, j=1,\n",
    "    m1=-1/2, m2=1/2\n",
    ")"
   ]
  },
  {
   "cell_type": "code",
   "execution_count": 17,
   "metadata": {},
   "outputs": [
    {
     "data": {
      "text/html": [
       "<div>\n",
       "<style scoped>\n",
       "    .dataframe tbody tr th:only-of-type {\n",
       "        vertical-align: middle;\n",
       "    }\n",
       "\n",
       "    .dataframe tbody tr th {\n",
       "        vertical-align: top;\n",
       "    }\n",
       "\n",
       "    .dataframe thead th {\n",
       "        text-align: right;\n",
       "    }\n",
       "</style>\n",
       "<table border=\"1\" class=\"dataframe\">\n",
       "  <thead>\n",
       "    <tr style=\"text-align: right;\">\n",
       "      <th>j</th>\n",
       "      <th>1.0</th>\n",
       "    </tr>\n",
       "    <tr>\n",
       "      <th>(m1, m2)</th>\n",
       "      <th></th>\n",
       "    </tr>\n",
       "  </thead>\n",
       "  <tbody>\n",
       "  </tbody>\n",
       "</table>\n",
       "</div>"
      ],
      "text/plain": [
       "Empty DataFrame\n",
       "Columns: [1.0]\n",
       "Index: []"
      ]
     },
     "execution_count": 17,
     "metadata": {},
     "output_type": "execute_result"
    }
   ],
   "source": [
    "# display a table of Clebsch-Gordan coefficients given j1, j2, and m\n",
    "# should be empty: https://en.wikipedia.org/wiki/Table_of_Clebsch%E2%80%93Gordan_coefficients\n",
    "cg.cg_table(j1=1, j2=0, m=1/2)\n"
   ]
  },
  {
   "cell_type": "code",
   "execution_count": 18,
   "metadata": {},
   "outputs": [
    {
     "data": {
      "text/html": [
       "<div>\n",
       "<style scoped>\n",
       "    .dataframe tbody tr th:only-of-type {\n",
       "        vertical-align: middle;\n",
       "    }\n",
       "\n",
       "    .dataframe tbody tr th {\n",
       "        vertical-align: top;\n",
       "    }\n",
       "\n",
       "    .dataframe thead th {\n",
       "        text-align: right;\n",
       "    }\n",
       "</style>\n",
       "<table border=\"1\" class=\"dataframe\">\n",
       "  <thead>\n",
       "    <tr style=\"text-align: right;\">\n",
       "      <th>j</th>\n",
       "      <th>0.5</th>\n",
       "      <th>1.5</th>\n",
       "    </tr>\n",
       "    <tr>\n",
       "      <th>(m1, m2)</th>\n",
       "      <th></th>\n",
       "      <th></th>\n",
       "    </tr>\n",
       "  </thead>\n",
       "  <tbody>\n",
       "    <tr>\n",
       "      <th>(0.0, 0.5)</th>\n",
       "      <td>-0.577350</td>\n",
       "      <td>0.816497</td>\n",
       "    </tr>\n",
       "    <tr>\n",
       "      <th>(1.0, -0.5)</th>\n",
       "      <td>0.816497</td>\n",
       "      <td>0.577350</td>\n",
       "    </tr>\n",
       "  </tbody>\n",
       "</table>\n",
       "</div>"
      ],
      "text/plain": [
       "j                 0.5       1.5\n",
       "(m1, m2)                       \n",
       "(0.0, 0.5)  -0.577350  0.816497\n",
       "(1.0, -0.5)  0.816497  0.577350"
      ]
     },
     "execution_count": 18,
     "metadata": {},
     "output_type": "execute_result"
    }
   ],
   "source": [
    "# https://en.wikipedia.org/wiki/Table_of_Clebsch%E2%80%93Gordan_coefficients\n",
    "cg.cg_table(j1=1, j2=1/2, m=1/2)"
   ]
  },
  {
   "cell_type": "code",
   "execution_count": 19,
   "metadata": {},
   "outputs": [
    {
     "name": "stdout",
     "output_type": "stream",
     "text": [
      "j1 = 0.5, j2 = 0.5\n",
      "m = -1.0:\n"
     ]
    },
    {
     "data": {
      "text/html": [
       "<div>\n",
       "<style scoped>\n",
       "    .dataframe tbody tr th:only-of-type {\n",
       "        vertical-align: middle;\n",
       "    }\n",
       "\n",
       "    .dataframe tbody tr th {\n",
       "        vertical-align: top;\n",
       "    }\n",
       "\n",
       "    .dataframe thead th {\n",
       "        text-align: right;\n",
       "    }\n",
       "</style>\n",
       "<table border=\"1\" class=\"dataframe\">\n",
       "  <thead>\n",
       "    <tr style=\"text-align: right;\">\n",
       "      <th>j</th>\n",
       "      <th>1.0</th>\n",
       "    </tr>\n",
       "    <tr>\n",
       "      <th>(m1, m2)</th>\n",
       "      <th></th>\n",
       "    </tr>\n",
       "  </thead>\n",
       "  <tbody>\n",
       "    <tr>\n",
       "      <th>(-0.5, -0.5)</th>\n",
       "      <td>1.0</td>\n",
       "    </tr>\n",
       "  </tbody>\n",
       "</table>\n",
       "</div>"
      ],
      "text/plain": [
       "j             1.0\n",
       "(m1, m2)         \n",
       "(-0.5, -0.5)  1.0"
      ]
     },
     "metadata": {},
     "output_type": "display_data"
    },
    {
     "name": "stdout",
     "output_type": "stream",
     "text": [
      "m = 0.0:\n"
     ]
    },
    {
     "data": {
      "text/html": [
       "<div>\n",
       "<style scoped>\n",
       "    .dataframe tbody tr th:only-of-type {\n",
       "        vertical-align: middle;\n",
       "    }\n",
       "\n",
       "    .dataframe tbody tr th {\n",
       "        vertical-align: top;\n",
       "    }\n",
       "\n",
       "    .dataframe thead th {\n",
       "        text-align: right;\n",
       "    }\n",
       "</style>\n",
       "<table border=\"1\" class=\"dataframe\">\n",
       "  <thead>\n",
       "    <tr style=\"text-align: right;\">\n",
       "      <th>j</th>\n",
       "      <th>0.0</th>\n",
       "      <th>1.0</th>\n",
       "    </tr>\n",
       "    <tr>\n",
       "      <th>(m1, m2)</th>\n",
       "      <th></th>\n",
       "      <th></th>\n",
       "    </tr>\n",
       "  </thead>\n",
       "  <tbody>\n",
       "    <tr>\n",
       "      <th>(-0.5, 0.5)</th>\n",
       "      <td>-0.707107</td>\n",
       "      <td>0.707107</td>\n",
       "    </tr>\n",
       "    <tr>\n",
       "      <th>(0.5, -0.5)</th>\n",
       "      <td>0.707107</td>\n",
       "      <td>0.707107</td>\n",
       "    </tr>\n",
       "  </tbody>\n",
       "</table>\n",
       "</div>"
      ],
      "text/plain": [
       "j                 0.0       1.0\n",
       "(m1, m2)                       \n",
       "(-0.5, 0.5) -0.707107  0.707107\n",
       "(0.5, -0.5)  0.707107  0.707107"
      ]
     },
     "metadata": {},
     "output_type": "display_data"
    },
    {
     "name": "stdout",
     "output_type": "stream",
     "text": [
      "m = 1.0:\n"
     ]
    },
    {
     "data": {
      "text/html": [
       "<div>\n",
       "<style scoped>\n",
       "    .dataframe tbody tr th:only-of-type {\n",
       "        vertical-align: middle;\n",
       "    }\n",
       "\n",
       "    .dataframe tbody tr th {\n",
       "        vertical-align: top;\n",
       "    }\n",
       "\n",
       "    .dataframe thead th {\n",
       "        text-align: right;\n",
       "    }\n",
       "</style>\n",
       "<table border=\"1\" class=\"dataframe\">\n",
       "  <thead>\n",
       "    <tr style=\"text-align: right;\">\n",
       "      <th>j</th>\n",
       "      <th>1.0</th>\n",
       "    </tr>\n",
       "    <tr>\n",
       "      <th>(m1, m2)</th>\n",
       "      <th></th>\n",
       "    </tr>\n",
       "  </thead>\n",
       "  <tbody>\n",
       "    <tr>\n",
       "      <th>(0.5, 0.5)</th>\n",
       "      <td>1.0</td>\n",
       "    </tr>\n",
       "  </tbody>\n",
       "</table>\n",
       "</div>"
      ],
      "text/plain": [
       "j           1.0\n",
       "(m1, m2)       \n",
       "(0.5, 0.5)  1.0"
      ]
     },
     "metadata": {},
     "output_type": "display_data"
    }
   ],
   "source": [
    "# CG table with all possible m's\n",
    "# returns a dict of pd.DataFrame\n",
    "_ = cg.cg_tables_all_m(1/2, 1/2, display_tables=True)"
   ]
  },
  {
   "cell_type": "code",
   "execution_count": 20,
   "metadata": {},
   "outputs": [
    {
     "data": {
      "text/html": [
       "<div>\n",
       "<style scoped>\n",
       "    .dataframe tbody tr th:only-of-type {\n",
       "        vertical-align: middle;\n",
       "    }\n",
       "\n",
       "    .dataframe tbody tr th {\n",
       "        vertical-align: top;\n",
       "    }\n",
       "\n",
       "    .dataframe thead th {\n",
       "        text-align: right;\n",
       "    }\n",
       "</style>\n",
       "<table border=\"1\" class=\"dataframe\">\n",
       "  <thead>\n",
       "    <tr style=\"text-align: right;\">\n",
       "      <th>j</th>\n",
       "      <th>1.0</th>\n",
       "    </tr>\n",
       "    <tr>\n",
       "      <th>(m1, m2)</th>\n",
       "      <th></th>\n",
       "    </tr>\n",
       "  </thead>\n",
       "  <tbody>\n",
       "    <tr>\n",
       "      <th>(0.5, 0.5)</th>\n",
       "      <td>1.0</td>\n",
       "    </tr>\n",
       "  </tbody>\n",
       "</table>\n",
       "</div>"
      ],
      "text/plain": [
       "j           1.0\n",
       "(m1, m2)       \n",
       "(0.5, 0.5)  1.0"
      ]
     },
     "execution_count": 20,
     "metadata": {},
     "output_type": "execute_result"
    }
   ],
   "source": [
    "# stores all CG coefficients up to jmax=2\n",
    "cg_table = ClebschGordanCoefficients(jmax=2)\n",
    "# get the pd.DataFrame for the CG coefficients for j1 = j2 = 1/2 and m = 1\n",
    "cg_table[0.5, 0.5, 1]\n"
   ]
  },
  {
   "cell_type": "code",
   "execution_count": 21,
   "metadata": {},
   "outputs": [
    {
     "data": {
      "text/plain": [
       "ClebschGordanCoefficients(jmax=2)"
      ]
     },
     "execution_count": 21,
     "metadata": {},
     "output_type": "execute_result"
    }
   ],
   "source": [
    "cg_table\n"
   ]
  },
  {
   "cell_type": "code",
   "execution_count": 22,
   "metadata": {},
   "outputs": [
    {
     "data": {
      "text/plain": [
       "ClebschGordanCoefficients(jmax=2.5)"
      ]
     },
     "execution_count": 22,
     "metadata": {},
     "output_type": "execute_result"
    }
   ],
   "source": [
    "cg_table[5/2, 1]  # out of range -> update jmax to 5/2 automatically\n",
    "cg_table"
   ]
  },
  {
   "cell_type": "code",
   "execution_count": 23,
   "metadata": {},
   "outputs": [
    {
     "name": "stdout",
     "output_type": "stream",
     "text": [
      "m = -2.0:\n"
     ]
    },
    {
     "data": {
      "text/html": [
       "<div>\n",
       "<style scoped>\n",
       "    .dataframe tbody tr th:only-of-type {\n",
       "        vertical-align: middle;\n",
       "    }\n",
       "\n",
       "    .dataframe tbody tr th {\n",
       "        vertical-align: top;\n",
       "    }\n",
       "\n",
       "    .dataframe thead th {\n",
       "        text-align: right;\n",
       "    }\n",
       "</style>\n",
       "<table border=\"1\" class=\"dataframe\">\n",
       "  <thead>\n",
       "    <tr style=\"text-align: right;\">\n",
       "      <th>j</th>\n",
       "      <th>2.0</th>\n",
       "    </tr>\n",
       "    <tr>\n",
       "      <th>(m1, m2)</th>\n",
       "      <th></th>\n",
       "    </tr>\n",
       "  </thead>\n",
       "  <tbody>\n",
       "    <tr>\n",
       "      <th>(-1.0, -1.0)</th>\n",
       "      <td>1.0</td>\n",
       "    </tr>\n",
       "  </tbody>\n",
       "</table>\n",
       "</div>"
      ],
      "text/plain": [
       "j             2.0\n",
       "(m1, m2)         \n",
       "(-1.0, -1.0)  1.0"
      ]
     },
     "metadata": {},
     "output_type": "display_data"
    },
    {
     "name": "stdout",
     "output_type": "stream",
     "text": [
      "m = -1.0:\n"
     ]
    },
    {
     "data": {
      "text/html": [
       "<div>\n",
       "<style scoped>\n",
       "    .dataframe tbody tr th:only-of-type {\n",
       "        vertical-align: middle;\n",
       "    }\n",
       "\n",
       "    .dataframe tbody tr th {\n",
       "        vertical-align: top;\n",
       "    }\n",
       "\n",
       "    .dataframe thead th {\n",
       "        text-align: right;\n",
       "    }\n",
       "</style>\n",
       "<table border=\"1\" class=\"dataframe\">\n",
       "  <thead>\n",
       "    <tr style=\"text-align: right;\">\n",
       "      <th>j</th>\n",
       "      <th>1.0</th>\n",
       "      <th>2.0</th>\n",
       "    </tr>\n",
       "    <tr>\n",
       "      <th>(m1, m2)</th>\n",
       "      <th></th>\n",
       "      <th></th>\n",
       "    </tr>\n",
       "  </thead>\n",
       "  <tbody>\n",
       "    <tr>\n",
       "      <th>(-1.0, 0.0)</th>\n",
       "      <td>-0.707107</td>\n",
       "      <td>0.707107</td>\n",
       "    </tr>\n",
       "    <tr>\n",
       "      <th>(0.0, -1.0)</th>\n",
       "      <td>0.707107</td>\n",
       "      <td>0.707107</td>\n",
       "    </tr>\n",
       "  </tbody>\n",
       "</table>\n",
       "</div>"
      ],
      "text/plain": [
       "j                 1.0       2.0\n",
       "(m1, m2)                       \n",
       "(-1.0, 0.0) -0.707107  0.707107\n",
       "(0.0, -1.0)  0.707107  0.707107"
      ]
     },
     "metadata": {},
     "output_type": "display_data"
    },
    {
     "name": "stdout",
     "output_type": "stream",
     "text": [
      "m = 0.0:\n"
     ]
    },
    {
     "data": {
      "text/html": [
       "<div>\n",
       "<style scoped>\n",
       "    .dataframe tbody tr th:only-of-type {\n",
       "        vertical-align: middle;\n",
       "    }\n",
       "\n",
       "    .dataframe tbody tr th {\n",
       "        vertical-align: top;\n",
       "    }\n",
       "\n",
       "    .dataframe thead th {\n",
       "        text-align: right;\n",
       "    }\n",
       "</style>\n",
       "<table border=\"1\" class=\"dataframe\">\n",
       "  <thead>\n",
       "    <tr style=\"text-align: right;\">\n",
       "      <th>j</th>\n",
       "      <th>0.0</th>\n",
       "      <th>1.0</th>\n",
       "      <th>2.0</th>\n",
       "    </tr>\n",
       "    <tr>\n",
       "      <th>(m1, m2)</th>\n",
       "      <th></th>\n",
       "      <th></th>\n",
       "      <th></th>\n",
       "    </tr>\n",
       "  </thead>\n",
       "  <tbody>\n",
       "    <tr>\n",
       "      <th>(-1.0, 1.0)</th>\n",
       "      <td>0.57735</td>\n",
       "      <td>-0.707107</td>\n",
       "      <td>0.408248</td>\n",
       "    </tr>\n",
       "    <tr>\n",
       "      <th>(0.0, 0.0)</th>\n",
       "      <td>-0.57735</td>\n",
       "      <td>0.000000</td>\n",
       "      <td>0.816497</td>\n",
       "    </tr>\n",
       "    <tr>\n",
       "      <th>(1.0, -1.0)</th>\n",
       "      <td>0.57735</td>\n",
       "      <td>0.707107</td>\n",
       "      <td>0.408248</td>\n",
       "    </tr>\n",
       "  </tbody>\n",
       "</table>\n",
       "</div>"
      ],
      "text/plain": [
       "j                0.0       1.0       2.0\n",
       "(m1, m2)                                \n",
       "(-1.0, 1.0)  0.57735 -0.707107  0.408248\n",
       "(0.0, 0.0)  -0.57735  0.000000  0.816497\n",
       "(1.0, -1.0)  0.57735  0.707107  0.408248"
      ]
     },
     "metadata": {},
     "output_type": "display_data"
    },
    {
     "name": "stdout",
     "output_type": "stream",
     "text": [
      "m = 1.0:\n"
     ]
    },
    {
     "data": {
      "text/html": [
       "<div>\n",
       "<style scoped>\n",
       "    .dataframe tbody tr th:only-of-type {\n",
       "        vertical-align: middle;\n",
       "    }\n",
       "\n",
       "    .dataframe tbody tr th {\n",
       "        vertical-align: top;\n",
       "    }\n",
       "\n",
       "    .dataframe thead th {\n",
       "        text-align: right;\n",
       "    }\n",
       "</style>\n",
       "<table border=\"1\" class=\"dataframe\">\n",
       "  <thead>\n",
       "    <tr style=\"text-align: right;\">\n",
       "      <th>j</th>\n",
       "      <th>1.0</th>\n",
       "      <th>2.0</th>\n",
       "    </tr>\n",
       "    <tr>\n",
       "      <th>(m1, m2)</th>\n",
       "      <th></th>\n",
       "      <th></th>\n",
       "    </tr>\n",
       "  </thead>\n",
       "  <tbody>\n",
       "    <tr>\n",
       "      <th>(0.0, 1.0)</th>\n",
       "      <td>-0.707107</td>\n",
       "      <td>0.707107</td>\n",
       "    </tr>\n",
       "    <tr>\n",
       "      <th>(1.0, 0.0)</th>\n",
       "      <td>0.707107</td>\n",
       "      <td>0.707107</td>\n",
       "    </tr>\n",
       "  </tbody>\n",
       "</table>\n",
       "</div>"
      ],
      "text/plain": [
       "j                1.0       2.0\n",
       "(m1, m2)                      \n",
       "(0.0, 1.0) -0.707107  0.707107\n",
       "(1.0, 0.0)  0.707107  0.707107"
      ]
     },
     "metadata": {},
     "output_type": "display_data"
    },
    {
     "name": "stdout",
     "output_type": "stream",
     "text": [
      "m = 2.0:\n"
     ]
    },
    {
     "data": {
      "text/html": [
       "<div>\n",
       "<style scoped>\n",
       "    .dataframe tbody tr th:only-of-type {\n",
       "        vertical-align: middle;\n",
       "    }\n",
       "\n",
       "    .dataframe tbody tr th {\n",
       "        vertical-align: top;\n",
       "    }\n",
       "\n",
       "    .dataframe thead th {\n",
       "        text-align: right;\n",
       "    }\n",
       "</style>\n",
       "<table border=\"1\" class=\"dataframe\">\n",
       "  <thead>\n",
       "    <tr style=\"text-align: right;\">\n",
       "      <th>j</th>\n",
       "      <th>2.0</th>\n",
       "    </tr>\n",
       "    <tr>\n",
       "      <th>(m1, m2)</th>\n",
       "      <th></th>\n",
       "    </tr>\n",
       "  </thead>\n",
       "  <tbody>\n",
       "    <tr>\n",
       "      <th>(1.0, 1.0)</th>\n",
       "      <td>1.0</td>\n",
       "    </tr>\n",
       "  </tbody>\n",
       "</table>\n",
       "</div>"
      ],
      "text/plain": [
       "j           2.0\n",
       "(m1, m2)       \n",
       "(1.0, 1.0)  1.0"
      ]
     },
     "metadata": {},
     "output_type": "display_data"
    }
   ],
   "source": [
    "# displays the computed CG table with j1 = j2 = 1\n",
    "for t in cg_table[1, 1].items():\n",
    "    print(f'm = {t[0]}:')\n",
    "    display(t[1])\n"
   ]
  },
  {
   "cell_type": "code",
   "execution_count": 24,
   "metadata": {},
   "outputs": [
    {
     "name": "stdout",
     "output_type": "stream",
     "text": [
      "j1 = 1.5, j2 = 0.5\n",
      "m = -2.0:\n"
     ]
    },
    {
     "data": {
      "text/html": [
       "<div>\n",
       "<style scoped>\n",
       "    .dataframe tbody tr th:only-of-type {\n",
       "        vertical-align: middle;\n",
       "    }\n",
       "\n",
       "    .dataframe tbody tr th {\n",
       "        vertical-align: top;\n",
       "    }\n",
       "\n",
       "    .dataframe thead th {\n",
       "        text-align: right;\n",
       "    }\n",
       "</style>\n",
       "<table border=\"1\" class=\"dataframe\">\n",
       "  <thead>\n",
       "    <tr style=\"text-align: right;\">\n",
       "      <th>j</th>\n",
       "      <th>2.0</th>\n",
       "    </tr>\n",
       "    <tr>\n",
       "      <th>(m1, m2)</th>\n",
       "      <th></th>\n",
       "    </tr>\n",
       "  </thead>\n",
       "  <tbody>\n",
       "    <tr>\n",
       "      <th>(-1.5, -0.5)</th>\n",
       "      <td>1.0</td>\n",
       "    </tr>\n",
       "  </tbody>\n",
       "</table>\n",
       "</div>"
      ],
      "text/plain": [
       "j             2.0\n",
       "(m1, m2)         \n",
       "(-1.5, -0.5)  1.0"
      ]
     },
     "metadata": {},
     "output_type": "display_data"
    },
    {
     "name": "stdout",
     "output_type": "stream",
     "text": [
      "m = -1.0:\n"
     ]
    },
    {
     "data": {
      "text/html": [
       "<div>\n",
       "<style scoped>\n",
       "    .dataframe tbody tr th:only-of-type {\n",
       "        vertical-align: middle;\n",
       "    }\n",
       "\n",
       "    .dataframe tbody tr th {\n",
       "        vertical-align: top;\n",
       "    }\n",
       "\n",
       "    .dataframe thead th {\n",
       "        text-align: right;\n",
       "    }\n",
       "</style>\n",
       "<table border=\"1\" class=\"dataframe\">\n",
       "  <thead>\n",
       "    <tr style=\"text-align: right;\">\n",
       "      <th>j</th>\n",
       "      <th>1.0</th>\n",
       "      <th>2.0</th>\n",
       "    </tr>\n",
       "    <tr>\n",
       "      <th>(m1, m2)</th>\n",
       "      <th></th>\n",
       "      <th></th>\n",
       "    </tr>\n",
       "  </thead>\n",
       "  <tbody>\n",
       "    <tr>\n",
       "      <th>(-1.5, 0.5)</th>\n",
       "      <td>-0.866025</td>\n",
       "      <td>0.500000</td>\n",
       "    </tr>\n",
       "    <tr>\n",
       "      <th>(-0.5, -0.5)</th>\n",
       "      <td>0.500000</td>\n",
       "      <td>0.866025</td>\n",
       "    </tr>\n",
       "  </tbody>\n",
       "</table>\n",
       "</div>"
      ],
      "text/plain": [
       "j                  1.0       2.0\n",
       "(m1, m2)                        \n",
       "(-1.5, 0.5)  -0.866025  0.500000\n",
       "(-0.5, -0.5)  0.500000  0.866025"
      ]
     },
     "metadata": {},
     "output_type": "display_data"
    },
    {
     "name": "stdout",
     "output_type": "stream",
     "text": [
      "m = 0.0:\n"
     ]
    },
    {
     "data": {
      "text/html": [
       "<div>\n",
       "<style scoped>\n",
       "    .dataframe tbody tr th:only-of-type {\n",
       "        vertical-align: middle;\n",
       "    }\n",
       "\n",
       "    .dataframe tbody tr th {\n",
       "        vertical-align: top;\n",
       "    }\n",
       "\n",
       "    .dataframe thead th {\n",
       "        text-align: right;\n",
       "    }\n",
       "</style>\n",
       "<table border=\"1\" class=\"dataframe\">\n",
       "  <thead>\n",
       "    <tr style=\"text-align: right;\">\n",
       "      <th>j</th>\n",
       "      <th>0.0</th>\n",
       "      <th>1.0</th>\n",
       "      <th>2.0</th>\n",
       "    </tr>\n",
       "    <tr>\n",
       "      <th>(m1, m2)</th>\n",
       "      <th></th>\n",
       "      <th></th>\n",
       "      <th></th>\n",
       "    </tr>\n",
       "  </thead>\n",
       "  <tbody>\n",
       "    <tr>\n",
       "      <th>(-0.5, 0.5)</th>\n",
       "      <td>0</td>\n",
       "      <td>-0.707107</td>\n",
       "      <td>0.707107</td>\n",
       "    </tr>\n",
       "    <tr>\n",
       "      <th>(0.5, -0.5)</th>\n",
       "      <td>0</td>\n",
       "      <td>0.707107</td>\n",
       "      <td>0.707107</td>\n",
       "    </tr>\n",
       "  </tbody>\n",
       "</table>\n",
       "</div>"
      ],
      "text/plain": [
       "j            0.0       1.0       2.0\n",
       "(m1, m2)                            \n",
       "(-0.5, 0.5)    0 -0.707107  0.707107\n",
       "(0.5, -0.5)    0  0.707107  0.707107"
      ]
     },
     "metadata": {},
     "output_type": "display_data"
    },
    {
     "name": "stdout",
     "output_type": "stream",
     "text": [
      "m = 1.0:\n"
     ]
    },
    {
     "data": {
      "text/html": [
       "<div>\n",
       "<style scoped>\n",
       "    .dataframe tbody tr th:only-of-type {\n",
       "        vertical-align: middle;\n",
       "    }\n",
       "\n",
       "    .dataframe tbody tr th {\n",
       "        vertical-align: top;\n",
       "    }\n",
       "\n",
       "    .dataframe thead th {\n",
       "        text-align: right;\n",
       "    }\n",
       "</style>\n",
       "<table border=\"1\" class=\"dataframe\">\n",
       "  <thead>\n",
       "    <tr style=\"text-align: right;\">\n",
       "      <th>j</th>\n",
       "      <th>1.0</th>\n",
       "      <th>2.0</th>\n",
       "    </tr>\n",
       "    <tr>\n",
       "      <th>(m1, m2)</th>\n",
       "      <th></th>\n",
       "      <th></th>\n",
       "    </tr>\n",
       "  </thead>\n",
       "  <tbody>\n",
       "    <tr>\n",
       "      <th>(0.5, 0.5)</th>\n",
       "      <td>-0.500000</td>\n",
       "      <td>0.866025</td>\n",
       "    </tr>\n",
       "    <tr>\n",
       "      <th>(1.5, -0.5)</th>\n",
       "      <td>0.866025</td>\n",
       "      <td>0.500000</td>\n",
       "    </tr>\n",
       "  </tbody>\n",
       "</table>\n",
       "</div>"
      ],
      "text/plain": [
       "j                 1.0       2.0\n",
       "(m1, m2)                       \n",
       "(0.5, 0.5)  -0.500000  0.866025\n",
       "(1.5, -0.5)  0.866025  0.500000"
      ]
     },
     "metadata": {},
     "output_type": "display_data"
    },
    {
     "name": "stdout",
     "output_type": "stream",
     "text": [
      "m = 2.0:\n"
     ]
    },
    {
     "data": {
      "text/html": [
       "<div>\n",
       "<style scoped>\n",
       "    .dataframe tbody tr th:only-of-type {\n",
       "        vertical-align: middle;\n",
       "    }\n",
       "\n",
       "    .dataframe tbody tr th {\n",
       "        vertical-align: top;\n",
       "    }\n",
       "\n",
       "    .dataframe thead th {\n",
       "        text-align: right;\n",
       "    }\n",
       "</style>\n",
       "<table border=\"1\" class=\"dataframe\">\n",
       "  <thead>\n",
       "    <tr style=\"text-align: right;\">\n",
       "      <th>j</th>\n",
       "      <th>2.0</th>\n",
       "    </tr>\n",
       "    <tr>\n",
       "      <th>(m1, m2)</th>\n",
       "      <th></th>\n",
       "    </tr>\n",
       "  </thead>\n",
       "  <tbody>\n",
       "    <tr>\n",
       "      <th>(1.5, 0.5)</th>\n",
       "      <td>1.0</td>\n",
       "    </tr>\n",
       "  </tbody>\n",
       "</table>\n",
       "</div>"
      ],
      "text/plain": [
       "j           2.0\n",
       "(m1, m2)       \n",
       "(1.5, 0.5)  1.0"
      ]
     },
     "metadata": {},
     "output_type": "display_data"
    }
   ],
   "source": [
    "# displays the computed CG table of with j1=3/2 and j2=1/2 with all possible m\n",
    "# returns a dictionary of CG tables (pd.DataFrame)\n",
    "_ = cg.cg_tables_all_m(j1=3/2, j2=1/2, display_tables=True)\n"
   ]
  }
 ],
 "metadata": {
  "interpreter": {
   "hash": "1b10f2198b47975382fcbeff5cffcfc725527dbae9819a50bc79029b850fdd7a"
  },
  "kernelspec": {
   "display_name": "Python 3.8.12 64-bit ('base': conda)",
   "language": "python",
   "name": "python3"
  },
  "language_info": {
   "codemirror_mode": {
    "name": "ipython",
    "version": 3
   },
   "file_extension": ".py",
   "mimetype": "text/x-python",
   "name": "python",
   "nbconvert_exporter": "python",
   "pygments_lexer": "ipython3",
   "version": "3.8.12"
  },
  "orig_nbformat": 4
 },
 "nbformat": 4,
 "nbformat_minor": 2
}
